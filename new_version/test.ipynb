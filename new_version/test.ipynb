{
 "cells": [
  {
   "cell_type": "code",
   "execution_count": 1,
   "id": "c6905679-b6c0-4b49-9a38-b3326fa7b370",
   "metadata": {
    "tags": []
   },
   "outputs": [],
   "source": [
    "from selenium import webdriver\n",
    "from selenium.webdriver import Firefox\n",
    "from selenium.webdriver.firefox.service import Service\n",
    "from selenium.webdriver.firefox.options import Options\n",
    "from selenium.webdriver.common.by import By\n",
    "from selenium.webdriver.support.ui import WebDriverWait\n",
    "from selenium.webdriver.support import expected_conditions as EC\n",
    "from selenium.common.exceptions import TimeoutException\n",
    "import re\n",
    "\n",
    "import os\n",
    "from os.path import exists, join, isfile, abspath"
   ]
  },
  {
   "cell_type": "code",
   "execution_count": 2,
   "id": "74563d24-8f75-434d-a651-beb676165691",
   "metadata": {
    "tags": []
   },
   "outputs": [],
   "source": [
    "# catalogue module\n",
    "from catalogue_modules.amcal import get_cata_from_amcal\n",
    "from catalogue_modules.chemistking import get_cata_from_chemistking\n",
    "#from catalogue_modules.spotlight import get_cata_from_spotlight\n",
    "from catalogue_modules.salefinder import get_cata_from_salefinder\n",
    "from catalogue_setting.driver_setup import driver_setup\n",
    "from catalogue_setting.catalogue_setup import catalogue_option_setup"
   ]
  },
  {
   "cell_type": "code",
   "execution_count": 3,
   "id": "afbc2206-47b5-4181-ad37-33ac7cd6b75e",
   "metadata": {},
   "outputs": [
    {
     "name": "stdout",
     "output_type": "stream",
     "text": [
      "No history record\n",
      "Date: 2022-08-15\n"
     ]
    }
   ],
   "source": [
    "catalogue_option = catalogue_option_setup()"
   ]
  },
  {
   "cell_type": "code",
   "execution_count": 4,
   "id": "736d8a9c-80c0-4848-9af8-74f88e2ce7a7",
   "metadata": {},
   "outputs": [],
   "source": [
    "download_path = catalogue_option['download_path']\n",
    "cata_tracking = catalogue_option['cata_tracking']"
   ]
  },
  {
   "cell_type": "code",
   "execution_count": 5,
   "id": "530773e6-94fc-4245-b831-4b4fcc8d5d45",
   "metadata": {},
   "outputs": [],
   "source": [
    "driver = driver_setup(download_path)"
   ]
  },
  {
   "cell_type": "code",
   "execution_count": 9,
   "id": "a19c3892-e141-4330-af68-1dcf429a3365",
   "metadata": {},
   "outputs": [
    {
     "name": "stdout",
     "output_type": "stream",
     "text": [
      "BCF :  1 catalogue(s)\n"
     ]
    }
   ],
   "source": [
    "# -------- Amcal --------\n",
    "\n",
    "# Amcal\n",
    "driver = get_cata_from_amcal(driver, \"https://www.amcal.com.au/online-catalogue\", \"Amcal\", catalogue_option)"
   ]
  },
  {
   "cell_type": "code",
   "execution_count": 15,
   "id": "d2239c2d-2077-4159-bf90-60d083a15421",
   "metadata": {},
   "outputs": [],
   "source": [
    "cata_tracking.close()"
   ]
  }
 ],
 "metadata": {
  "kernelspec": {
   "display_name": "Python 3",
   "language": "python",
   "name": "python3"
  },
  "language_info": {
   "codemirror_mode": {
    "name": "ipython",
    "version": 3
   },
   "file_extension": ".py",
   "mimetype": "text/x-python",
   "name": "python",
   "nbconvert_exporter": "python",
   "pygments_lexer": "ipython3",
   "version": "3.7.5"
  }
 },
 "nbformat": 4,
 "nbformat_minor": 5
}
