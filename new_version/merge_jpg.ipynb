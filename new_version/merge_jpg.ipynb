{
 "cells": [
  {
   "cell_type": "code",
   "execution_count": 1,
   "id": "6d00edd0-ba8c-4416-be17-6dafc85415a8",
   "metadata": {},
   "outputs": [],
   "source": [
    "import os\n",
    "from os.path import isfile, join, abspath\n",
    "import img2pdf"
   ]
  },
  {
   "cell_type": "code",
   "execution_count": 17,
   "id": "4a4d4909-941c-4b12-93a0-d0e278a8d647",
   "metadata": {},
   "outputs": [
    {
     "data": {
      "text/plain": [
       "['D:\\\\Profectus\\\\Profectus Group\\\\Operations - TM\\\\Catalogues\\\\manual\\\\harvey-norman-catalogue-11-apr-2022-31-dec-2022--1635235-900-100000.jpg',\n",
       " 'D:\\\\Profectus\\\\Profectus Group\\\\Operations - TM\\\\Catalogues\\\\manual\\\\harvey-norman-catalogue-11-apr-2022-31-dec-2022--1635238-900-100000.jpg',\n",
       " 'D:\\\\Profectus\\\\Profectus Group\\\\Operations - TM\\\\Catalogues\\\\manual\\\\harvey-norman-catalogue-11-apr-2022-31-dec-2022--1635241-900-100000.jpg',\n",
       " 'D:\\\\Profectus\\\\Profectus Group\\\\Operations - TM\\\\Catalogues\\\\manual\\\\harvey-norman-catalogue-11-apr-2022-31-dec-2022--1635244-900-100000.jpg',\n",
       " 'D:\\\\Profectus\\\\Profectus Group\\\\Operations - TM\\\\Catalogues\\\\manual\\\\harvey-norman-catalogue-11-apr-2022-31-dec-2022--1635247-900-100000.jpg',\n",
       " 'D:\\\\Profectus\\\\Profectus Group\\\\Operations - TM\\\\Catalogues\\\\manual\\\\harvey-norman-catalogue-11-apr-2022-31-dec-2022--1635250-900-100000.jpg',\n",
       " 'D:\\\\Profectus\\\\Profectus Group\\\\Operations - TM\\\\Catalogues\\\\manual\\\\harvey-norman-catalogue-11-apr-2022-31-dec-2022--1635253-900-100000.jpg',\n",
       " 'D:\\\\Profectus\\\\Profectus Group\\\\Operations - TM\\\\Catalogues\\\\manual\\\\harvey-norman-catalogue-11-apr-2022-31-dec-2022--1635256-900-100000.jpg',\n",
       " 'D:\\\\Profectus\\\\Profectus Group\\\\Operations - TM\\\\Catalogues\\\\manual\\\\harvey-norman-catalogue-11-apr-2022-31-dec-2022--1635259-900-100000.jpg',\n",
       " 'D:\\\\Profectus\\\\Profectus Group\\\\Operations - TM\\\\Catalogues\\\\manual\\\\harvey-norman-catalogue-11-apr-2022-31-dec-2022--1635262-900-100000.jpg',\n",
       " 'D:\\\\Profectus\\\\Profectus Group\\\\Operations - TM\\\\Catalogues\\\\manual\\\\harvey-norman-catalogue-11-apr-2022-31-dec-2022--1635265-900-100000.jpg',\n",
       " 'D:\\\\Profectus\\\\Profectus Group\\\\Operations - TM\\\\Catalogues\\\\manual\\\\harvey-norman-catalogue-11-apr-2022-31-dec-2022--1635268-900-100000.jpg',\n",
       " 'D:\\\\Profectus\\\\Profectus Group\\\\Operations - TM\\\\Catalogues\\\\manual\\\\harvey-norman-catalogue-11-apr-2022-31-dec-2022--1635271-900-100000.jpg',\n",
       " 'D:\\\\Profectus\\\\Profectus Group\\\\Operations - TM\\\\Catalogues\\\\manual\\\\harvey-norman-catalogue-11-apr-2022-31-dec-2022--1635274-900-100000.jpg',\n",
       " 'D:\\\\Profectus\\\\Profectus Group\\\\Operations - TM\\\\Catalogues\\\\manual\\\\harvey-norman-catalogue-11-apr-2022-31-dec-2022--1635277-900-100000.jpg',\n",
       " 'D:\\\\Profectus\\\\Profectus Group\\\\Operations - TM\\\\Catalogues\\\\manual\\\\harvey-norman-catalogue-11-apr-2022-31-dec-2022--1635280-900-100000.jpg']"
      ]
     },
     "execution_count": 17,
     "metadata": {},
     "output_type": "execute_result"
    }
   ],
   "source": [
    "manual_folder = abspath(\"./manual\")\n",
    "img_list = [join(manual_folder, filename) for filename in os.listdir(manual_folder)]\n",
    "img_list"
   ]
  },
  {
   "cell_type": "code",
   "execution_count": 18,
   "id": "4616356e-10ca-44bd-8dd5-35abd920043e",
   "metadata": {},
   "outputs": [],
   "source": [
    "output_path = \"./manual_pdf\"\n",
    "cata_name = \"Harvey Norman Catalogue valid 11 Apr - 31 Dec 2022\"\n",
    "\n",
    "with open(join(output_path, cata_name + \".pdf\"), \"wb\") as pdf_file:\n",
    "    pdf_file.write(img2pdf.convert(img_list))"
   ]
  },
  {
   "cell_type": "code",
   "execution_count": 3,
   "id": "9316cad0-2b95-4fd5-8e01-54a97379a996",
   "metadata": {},
   "outputs": [
    {
     "name": "stdout",
     "output_type": "stream",
     "text": [
      "Initiating login request with your identity provider. A browser window should have opened for you to complete the login. If you can't see it, check existing browser windows, or your OS settings. Press CTRL+C to abort and try again...\n",
      "6.26.1\n"
     ]
    }
   ],
   "source": [
    "#!/usr/bin/env python\n",
    "import snowflake.connector\n",
    "\n",
    "# Gets the version\n",
    "ctx = snowflake.connector.connect(\n",
    "    user='TIENMAI@PROFECTUSGROUP.COM',\n",
    "    account='ih73640.australia-east.azure',\n",
    "    authenticator='externalbrowser'\n",
    "    )\n",
    "cs = ctx.cursor()\n",
    "try:\n",
    "    cs.execute(\"SELECT current_version()\")\n",
    "    one_row = cs.fetchone()\n",
    "    print(one_row[0])\n",
    "finally:\n",
    "    cs.close()\n",
    "ctx.close()"
   ]
  },
  {
   "cell_type": "code",
   "execution_count": null,
   "id": "bdad8824-98ab-4be7-8bbf-298d86c5c964",
   "metadata": {},
   "outputs": [],
   "source": []
  }
 ],
 "metadata": {
  "kernelspec": {
   "display_name": "Python 3",
   "language": "python",
   "name": "python3"
  },
  "language_info": {
   "codemirror_mode": {
    "name": "ipython",
    "version": 3
   },
   "file_extension": ".py",
   "mimetype": "text/x-python",
   "name": "python",
   "nbconvert_exporter": "python",
   "pygments_lexer": "ipython3",
   "version": "3.7.5"
  }
 },
 "nbformat": 4,
 "nbformat_minor": 5
}
