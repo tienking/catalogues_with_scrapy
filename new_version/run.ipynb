{
 "cells": [
  {
   "cell_type": "code",
   "execution_count": 66,
   "id": "f5850891-1c45-4938-a92a-f6966bf18713",
   "metadata": {},
   "outputs": [
    {
     "name": "stdout",
     "output_type": "stream",
     "text": [
      "Chemist King :  No new catalogue available\n"
     ]
    }
   ],
   "source": [
    "# -------- Chemist King --------\n",
    "\n",
    "# Chemist King\n",
    "get_cata_from_chemistking(\"https://www.chemistking.com.au/catalogue\", \"Chemist King\")"
   ]
  },
  {
   "cell_type": "code",
   "execution_count": null,
   "id": "98c10cb1-faba-40f9-be1f-6e49dd0cb662",
   "metadata": {},
   "outputs": [],
   "source": [
    "# -------- Amcal --------\n",
    "\n",
    "# Amcal\n",
    "get_cata_from_amcal(\"https://www.amcal.com.au/online-catalogue\", \"Amcal\")"
   ]
  },
  {
   "cell_type": "code",
   "execution_count": null,
   "id": "cf345b19-7083-4769-a034-fca78b9ba5b3",
   "metadata": {},
   "outputs": [],
   "source": [
    "# -------- Salefinder --------\n",
    "\n",
    "# BCF\n",
    "get_cata_from_salefinder(\"https://salefinder.com.au/BCF-catalogue\", \"BCF\")\n",
    "# Big W\n",
    "get_cata_from_salefinder(\"https://salefinder.com.au/Big-W-catalogue\", \"Big W\")\n",
    "# Bunnings\n",
    "get_cata_from_salefinder(\"https://salefinder.com.au/Bunnings-Warehouse-catalogue\", \"Bunnings\")\n",
    "# Countdown NZ\n",
    "get_cata_from_salefinder(\"https://salefinder.co.nz/Countdown-catalogue\", \"Countdown NZ\")\n",
    "# IGA\n",
    "get_cata_from_salefinder(\"https://salefinder.com.au/IGA-catalogue\", \"IGA\")\n",
    "# IGA Liquor\n",
    "get_cata_from_salefinder(\"https://salefinder.com.au/IGA-Liquor-catalogue\", \"IGA Liquor\")\n",
    "# Kmart\n",
    "get_cata_from_salefinder(\"https://salefinder.com.au/Kmart-catalogue\", \"Kmart\")\n",
    "# Myer\n",
    "get_cata_from_salefinder(\"https://salefinder.com.au/Myer-catalogue\", \"Myer\")\n",
    "# OfficeMAX NZ\n",
    "get_cata_from_salefinder(\"https://salefinder.co.nz/OfficeMax-catalogue\", \"OfficeMAX NZ\")\n",
    "# Officeworks\n",
    "get_cata_from_salefinder(\"https://salefinder.com.au/Officeworks-catalogue\", \"Officeworks\")\n",
    "# Priceline\n",
    "get_cata_from_salefinder(\"https://salefinder.com.au/Priceline-catalogue\", \"Priceline\")\n",
    "# Repco NZ\n",
    "get_cata_from_salefinder(\"https://salefinder.co.nz/Repco-catalogue\", \"Repco NZ\")\n",
    "# Spotlight\n",
    "get_cata_from_salefinder(\"https://salefinder.com.au/Spotlight-Australia-catalogue\", \"Spotlight\")\n",
    "# Supercheap Auto\n",
    "get_cata_from_salefinder(\"https://salefinder.com.au/Supercheap-Auto-catalogue\", \"Supercheap Auto\")\n",
    "# Woolworths\n",
    "get_cata_from_salefinder(\"https://salefinder.com.au/Woolworths-catalogue\", \"Woolworths\")"
   ]
  },
  {
   "cell_type": "code",
   "execution_count": 7,
   "id": "d2239c2d-2077-4159-bf90-60d083a15421",
   "metadata": {},
   "outputs": [],
   "source": [
    "cata_tracking.close()"
   ]
  }
 ],
 "metadata": {
  "kernelspec": {
   "display_name": "Python 3",
   "language": "python",
   "name": "python3"
  },
  "language_info": {
   "codemirror_mode": {
    "name": "ipython",
    "version": 3
   },
   "file_extension": ".py",
   "mimetype": "text/x-python",
   "name": "python",
   "nbconvert_exporter": "python",
   "pygments_lexer": "ipython3",
   "version": "3.7.5"
  }
 },
 "nbformat": 4,
 "nbformat_minor": 5
}
