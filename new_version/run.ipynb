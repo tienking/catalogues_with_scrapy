{
 "cells": [
  {
   "cell_type": "code",
   "execution_count": 7,
   "id": "d2239c2d-2077-4159-bf90-60d083a15421",
   "metadata": {},
   "outputs": [],
   "source": [
    "# catalogue module\n",
    "from catalogue_modules.amcal import get_cata_from_amcal\n",
    "from catalogue_modules.guardian import get_cata_from_guardian\n",
    "from catalogue_modules.chemistking import get_cata_from_chemistking\n",
    "#from catalogue_modules.spotlight import get_cata_from_spotlight\n",
    "from catalogue_modules.salefinder import get_cata_from_salefinder\n",
    "from catalogue_modules.latestcatalogues import get_cata_from_latestcatalogues\n",
    "from catalogue_setting.driver_setup import driver_setup\n",
    "from catalogue_setting.catalogue_setup import catalogue_option_setup"
   ]
  },
  {
   "cell_type": "code",
   "execution_count": 66,
   "id": "f5850891-1c45-4938-a92a-f6966bf18713",
   "metadata": {},
   "outputs": [
    {
     "name": "stdout",
     "output_type": "stream",
     "text": [
      "Chemist King :  No new catalogue available\n"
     ]
    }
   ],
   "source": [
    "# -------- Chemist King --------\n",
    "\n",
    "# Chemist King\n",
    "get_cata_from_chemistking(\"https://www.chemistking.com.au/catalogue\", \"Chemist King\")"
   ]
  },
  {
   "cell_type": "code",
   "execution_count": null,
   "id": "35852321-6fe9-4811-813a-c401fe5fe939",
   "metadata": {},
   "outputs": [],
   "source": [
    "# -------- Guardian --------\n",
    "\n",
    "# Guardian\n",
    "get_cata_from_amcal(\"https://www.guardianpharmacies.com.au/catalogue\", \"Guardian\")"
   ]
  },
  {
   "cell_type": "code",
   "execution_count": null,
   "id": "98c10cb1-faba-40f9-be1f-6e49dd0cb662",
   "metadata": {},
   "outputs": [],
   "source": [
    "# -------- Amcal --------\n",
    "\n",
    "# Amcal\n",
    "get_cata_from_amcal(\"https://www.amcal.com.au/online-catalogue\", \"Amcal\")"
   ]
  },
  {
   "cell_type": "code",
   "execution_count": null,
   "id": "cf345b19-7083-4769-a034-fca78b9ba5b3",
   "metadata": {},
   "outputs": [],
   "source": [
    "# -------- Salefinder --------\n",
    "\n",
    "# Big W\n",
    "get_cata_from_salefinder(\"https://salefinder.com.au/Big-W-catalogue\", \"Big W\")\n",
    "# Countdown NZ\n",
    "get_cata_from_salefinder(\"https://salefinder.co.nz/Countdown-catalogue\", \"Countdown NZ\")\n",
    "# IGA\n",
    "get_cata_from_salefinder(\"https://salefinder.com.au/IGA-catalogue\", \"IGA\")\n",
    "# IGA Liquor\n",
    "get_cata_from_salefinder(\"https://salefinder.com.au/IGA-Liquor-catalogue\", \"IGA Liquor\")\n",
    "# Myer\n",
    "get_cata_from_salefinder(\"https://salefinder.com.au/Myer-catalogue\", \"Myer\")\n",
    "# OfficeMAX NZ\n",
    "get_cata_from_salefinder(\"https://salefinder.co.nz/OfficeMax-catalogue\", \"OfficeMAX NZ\")\n",
    "# Officeworks\n",
    "get_cata_from_salefinder(\"https://salefinder.com.au/Officeworks-catalogue\", \"Officeworks\")\n",
    "# Repco NZ\n",
    "get_cata_from_salefinder(\"https://salefinder.co.nz/Repco-catalogue\", \"Repco NZ\")\n",
    "# Supercheap Auto\n",
    "get_cata_from_salefinder(\"https://salefinder.com.au/Supercheap-Auto-catalogue\", \"Supercheap Auto\")"
   ]
  },
  {
   "cell_type": "code",
   "execution_count": null,
   "id": "54e170f0-7d57-4442-85ae-304bf5a4b94f",
   "metadata": {},
   "outputs": [],
   "source": [
    "# -------- Lastestcatalogues --------\n",
    "\n",
    "# BCF\n",
    "get_cata_from_latestcatalogues(\"https://www.latestcatalogues.com/bcf\", \"BCF\")\n",
    "# Bunnings\n",
    "get_cata_from_latestcatalogues(\"https://www.latestcatalogues.com/bunnings-warehouse\", \"Bunnings\")\n",
    "# BWS\n",
    "get_cata_from_latestcatalogues(\"https://www.latestcatalogues.com/bws\", \"BWS\")\n",
    "# Coles Supermarket\n",
    "get_cata_from_latestcatalogues(\"https://www.latestcatalogues.com/coles\", \"Coles Supermarket\")\n",
    "# CWH AU\n",
    "get_cata_from_latestcatalogues(\"https://www.latestcatalogues.com/chemist-warehouse\", \"CWH AU\")\n",
    "# Discount Drug Stores\n",
    "get_cata_from_latestcatalogues(\"https://www.discountdrugstores.com.au/online-catalogue\", \"Discount Drug Stores\")\n",
    "# Edgars\n",
    "get_cata_from_latestcatalogues(\"https://www.edgars.co.za/catalogues\", \"Edgars\")\n",
    "# First Choice Liquor\n",
    "get_cata_from_latestcatalogues(\"https://www.latestcatalogues.com/first-choice\", \"First Choice Liquor\")\n",
    "# Foodworks\n",
    "get_cata_from_latestcatalogues(\"https://www.latestcatalogues.com/foodworks\", \"Foodworks\")\n",
    "# Harvey Norman\n",
    "get_cata_from_latestcatalogues(\"https://www.latestcatalogues.com/harvey-norman\", \"Harvey Norman\")\n",
    "# JB HI-FI\n",
    "get_cata_from_latestcatalogues(\"https://www.latestcatalogues.com/jb-hi-fi\", \"JB HI-FI\")\n",
    "# Kmart\n",
    "get_cata_from_latestcatalogues(\"https://www.latestcatalogues.com/kmart\", \"Kmart\")\n",
    "# Liquorland\n",
    "get_cata_from_latestcatalogues(\"https://www.latestcatalogues.com/liquorland\", \"Liquorland\")\n",
    "# My Chemist\n",
    "get_cata_from_latestcatalogues(\"https://www.latestcatalogues.com/my-chemist\", \"My Chemist\")\n",
    "# Priceline\n",
    "get_cata_from_latestcatalogues(\"https://www.latestcatalogues.com/priceline-pharmacy\", \"Priceline\")\n",
    "# Rebel Sport\n",
    "get_cata_from_latestcatalogues(\"https://www.latestcatalogues.com/rebel\", \"Rebel Sport\")\n",
    "# Repco AUS\n",
    "get_cata_from_latestcatalogues(\"https://www.latestcatalogues.com/repco\", \"Repco AUS\")\n",
    "# Spotlight\n",
    "get_cata_from_latestcatalogues(\"https://www.latestcatalogues.com/spotlight\", \"Spotlight\")\n",
    "# Target\n",
    "get_cata_from_latestcatalogues(\"https://www.latestcatalogues.com/target\", \"Target\")\n",
    "# The Good Guys\n",
    "get_cata_from_latestcatalogues(\"https://www.latestcatalogues.com/the-good-guys\", \"The Good Guys\")\n",
    "# Vintage Cellars\n",
    "get_cata_from_latestcatalogues(\"https://www.latestcatalogues.com/vintage-cellars\", \"Vintage Cellars\")\n",
    "# Woolworths\n",
    "get_cata_from_latestcatalogues(\"https://www.latestcatalogues.com/woolworths\", \"Woolworths\")"
   ]
  }
 ],
 "metadata": {
  "kernelspec": {
   "display_name": "Python 3",
   "language": "python",
   "name": "python3"
  },
  "language_info": {
   "codemirror_mode": {
    "name": "ipython",
    "version": 3
   },
   "file_extension": ".py",
   "mimetype": "text/x-python",
   "name": "python",
   "nbconvert_exporter": "python",
   "pygments_lexer": "ipython3",
   "version": "3.7.5"
  }
 },
 "nbformat": 4,
 "nbformat_minor": 5
}
