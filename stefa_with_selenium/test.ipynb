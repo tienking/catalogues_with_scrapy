{
 "cells": [
  {
   "cell_type": "code",
   "execution_count": 2,
   "id": "49b6f885-e55e-4ac6-8840-44e1ce50511e",
   "metadata": {},
   "outputs": [],
   "source": [
    "import csv\n",
    "from selenium import webdriver\n",
    "from selenium.webdriver.common.by import By\n",
    "from selenium.webdriver.common.keys import Keys\n",
    "from selenium.webdriver.support.ui import WebDriverWait\n",
    "from selenium.webdriver.chrome.options import Options\n",
    "from selenium.webdriver.support import expected_conditions as EC\n",
    "from selenium.common.exceptions import NoSuchElementException\n",
    "from selenium.webdriver.chrome.service import Service\n",
    "from webdriver_manager.chrome import ChromeDriverManager\n",
    "import time\n",
    "import datetime\n",
    "import os.path\n",
    "import sys"
   ]
  },
  {
   "cell_type": "code",
   "execution_count": 3,
   "id": "eefa6c3c-dd99-42f5-8d42-bb13e5df0706",
   "metadata": {},
   "outputs": [],
   "source": [
    "STEFA_URL = r\"https://www.stefanoricci.com/\""
   ]
  },
  {
   "cell_type": "code",
   "execution_count": 5,
   "id": "23326997-6a58-4ee1-92c4-81eb85cb0dc5",
   "metadata": {},
   "outputs": [
    {
     "name": "stderr",
     "output_type": "stream",
     "text": [
      "\n",
      "\n",
      "====== WebDriver manager ======\n",
      "Current google-chrome version is 100.0.4896\n",
      "Get LATEST chromedriver version for 100.0.4896 google-chrome\n",
      "Driver [/home/tien/.wdm/drivers/chromedriver/linux64/100.0.4896.60/chromedriver] found in cache\n"
     ]
    }
   ],
   "source": [
    "serv=Service(ChromeDriverManager().install())\n",
    "driver = webdriver.Chrome(service=serv)\n",
    "driver.get(STEFA_URL)"
   ]
  },
  {
   "cell_type": "code",
   "execution_count": 18,
   "id": "f8320c0a-9abb-42fd-ad6a-40728e6719c8",
   "metadata": {},
   "outputs": [
    {
     "name": "stdout",
     "output_type": "stream",
     "text": [
      "\n",
      "<a href=\"https://www.stefanoricci.com/ca-CA-en/Attributo_Spring-Summer_SS00.aspx\" class=\"sottolineato\">Spring/Summer</a>\n",
      "\n"
     ]
    },
    {
     "data": {
      "text/plain": [
       "'https://www.stefanoricci.com/ca-CA-en/Attributo_Spring-Summer_SS00.aspx'"
      ]
     },
     "execution_count": 18,
     "metadata": {},
     "output_type": "execute_result"
    }
   ],
   "source": [
    "headers = driver.find_elements(By.XPATH, '//ul[@class=\"nav navbar-nav skywalker_menu_catalogo\"]/li')\n",
    "\n",
    "print(headers[0].get_attribute('innerHTML'))\n",
    "headers[0].find_element(By.XPATH, \"a\").get_attribute(\"href\")"
   ]
  },
  {
   "cell_type": "code",
   "execution_count": null,
   "id": "3297f1a0-62dc-41aa-9419-f0428a29ab36",
   "metadata": {},
   "outputs": [],
   "source": []
  }
 ],
 "metadata": {
  "kernelspec": {
   "display_name": "Python 3 (ipykernel)",
   "language": "python",
   "name": "python3"
  },
  "language_info": {
   "codemirror_mode": {
    "name": "ipython",
    "version": 3
   },
   "file_extension": ".py",
   "mimetype": "text/x-python",
   "name": "python",
   "nbconvert_exporter": "python",
   "pygments_lexer": "ipython3",
   "version": "3.8.10"
  }
 },
 "nbformat": 4,
 "nbformat_minor": 5
}
