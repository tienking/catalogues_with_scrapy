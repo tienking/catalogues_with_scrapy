{
 "cells": [
  {
   "cell_type": "code",
   "execution_count": 4,
   "id": "49b6f885-e55e-4ac6-8840-44e1ce50511e",
   "metadata": {},
   "outputs": [],
   "source": [
    "import csv\n",
    "from selenium import webdriver\n",
    "from selenium.webdriver.common.by import By\n",
    "from selenium.webdriver.common.keys import Keys\n",
    "from selenium.webdriver.support.ui import WebDriverWait\n",
    "from selenium.webdriver.chrome.options import Options\n",
    "from selenium.webdriver.support import expected_conditions as EC\n",
    "from selenium.common.exceptions import NoSuchElementException, TimeoutException, StaleElementReferenceException, ElementNotInteractableException, ElementClickInterceptedException\n",
    "from selenium.webdriver.chrome.service import Service\n",
    "from selenium.webdriver.common.action_chains import ActionChains\n",
    "from webdriver_manager.chrome import ChromeDriverManager\n",
    "import time\n",
    "import datetime\n",
    "import os.path\n",
    "import sys"
   ]
  },
  {
   "cell_type": "code",
   "execution_count": 7,
   "id": "eefa6c3c-dd99-42f5-8d42-bb13e5df0706",
   "metadata": {},
   "outputs": [],
   "source": [
    "STEFA_URL = r\"https://www.casadei.com/en/new-arrivals/?page=11\""
   ]
  },
  {
   "cell_type": "code",
   "execution_count": 9,
   "id": "23326997-6a58-4ee1-92c4-81eb85cb0dc5",
   "metadata": {},
   "outputs": [
    {
     "name": "stderr",
     "output_type": "stream",
     "text": [
      "[WDM] - ====== WebDriver manager ======\n",
      "[WDM] - Current google-chrome version is 99.0.4844\n",
      "[WDM] - Get LATEST driver version for 99.0.4844\n"
     ]
    },
    {
     "name": "stdout",
     "output_type": "stream",
     "text": [
      "\n",
      "\n"
     ]
    },
    {
     "name": "stderr",
     "output_type": "stream",
     "text": [
      "[WDM] - Driver [C:\\Users\\pc38\\.wdm\\drivers\\chromedriver\\win32\\99.0.4844.51\\chromedriver.exe] found in cache\n"
     ]
    }
   ],
   "source": [
    "chrome_options = Options()\n",
    "chrome_options.add_argument(\"--start-maximized\")\n",
    "serv=Service(ChromeDriverManager().install())\n",
    "driver = webdriver.Chrome(service=serv, options=chrome_options)\n",
    "driver.get(STEFA_URL)"
   ]
  },
  {
   "cell_type": "code",
   "execution_count": 22,
   "id": "647bc442-4146-4d43-9f24-45cb98f090c1",
   "metadata": {},
   "outputs": [],
   "source": [
    "item_list = driver.find_elements(By.CLASS_NAME, \"b-product_tile\")"
   ]
  },
  {
   "cell_type": "code",
   "execution_count": 23,
   "id": "fac95f0a-7790-4943-af87-f165c9f0f5c9",
   "metadata": {},
   "outputs": [
    {
     "data": {
      "text/plain": [
       "196"
      ]
     },
     "execution_count": 23,
     "metadata": {},
     "output_type": "execute_result"
    }
   ],
   "source": [
    "len(item_list)"
   ]
  },
  {
   "cell_type": "code",
   "execution_count": 27,
   "id": "fe525ca2-5260-499f-81f2-28ba4617fbd3",
   "metadata": {},
   "outputs": [],
   "source": [
    "items = {}\n",
    "for item in item_list:\n",
    "    data_itemid = item.get_attribute(\"data-itemid\")\n",
    "    \n",
    "    items[data_itemid] = {}\n",
    "    items[data_itemid][\"data-product-name\"] = item.get_attribute(\"data-product-name\")\n",
    "    items[data_itemid][\"data-variant\"] = item.get_attribute(\"data-variant\")\n",
    "    items[data_itemid][\"data-category\"] = item.get_attribute(\"data-category\")\n",
    "    items[data_itemid][\"data-brand\"] = item.get_attribute(\"data-brand\")\n",
    "    items[data_itemid][\"data-price\"] = item.get_attribute(\"data-price\")\n",
    "    items[data_itemid][\"data-dimension9\"] = item.get_attribute(\"data-dimension9\")\n",
    "    items[data_itemid][\"data-dimension10\"] = item.get_attribute(\"data-dimension10\")\n",
    "    items[data_itemid][\"data-metric2\"] = item.get_attribute(\"data-metric2\")\n",
    "    \n",
    "    items[data_itemid][\"item-link\"] = item.find_element(By.CLASS_NAME, 'b-product_image-wrapper').get_attribute(\"href\")\n",
    "    items[data_itemid][\"item-image-link\"] = item.find_element(By.CLASS_NAME, 'b-product_image-wrapper').get_attribute(\"data-altimage\")"
   ]
  },
  {
   "cell_type": "code",
   "execution_count": 29,
   "id": "b19834d0-bc13-4378-8397-badbeaa0a471",
   "metadata": {},
   "outputs": [
    {
     "data": {
      "text/plain": [
       "196"
      ]
     },
     "execution_count": 29,
     "metadata": {},
     "output_type": "execute_result"
    }
   ],
   "source": [
    "len(items)"
   ]
  },
  {
   "cell_type": "code",
   "execution_count": null,
   "id": "b2d82f00-a27c-4c86-9c42-1d4dca1b63f3",
   "metadata": {},
   "outputs": [],
   "source": [
    "STEFA_URL = r\"https://www.casadei.com/en/shoes-shoes/categories/?page=18\""
   ]
  },
  {
   "cell_type": "code",
   "execution_count": 30,
   "id": "d2b08e89-a6fb-4411-9aad-d0c216a8e448",
   "metadata": {},
   "outputs": [],
   "source": [
    "item_list = driver.find_elements(By.CLASS_NAME, \"b-product_tile\")"
   ]
  },
  {
   "cell_type": "code",
   "execution_count": 31,
   "id": "6e3fd505-4c3d-4a95-ba9a-b9bc0e0a83c4",
   "metadata": {},
   "outputs": [
    {
     "data": {
      "text/plain": [
       "322"
      ]
     },
     "execution_count": 31,
     "metadata": {},
     "output_type": "execute_result"
    }
   ],
   "source": [
    "len(item_list)"
   ]
  },
  {
   "cell_type": "code",
   "execution_count": 32,
   "id": "fbe6c869-0a3b-4cdf-a7f1-4ac18e82fa23",
   "metadata": {},
   "outputs": [],
   "source": [
    "s_items = {}\n",
    "for item in item_list:\n",
    "    data_itemid = item.get_attribute(\"data-itemid\")\n",
    "    \n",
    "    s_items[data_itemid] = {}\n",
    "    s_items[data_itemid][\"data-product-name\"] = item.get_attribute(\"data-product-name\")\n",
    "    s_items[data_itemid][\"data-variant\"] = item.get_attribute(\"data-variant\")\n",
    "    s_items[data_itemid][\"data-category\"] = item.get_attribute(\"data-category\")\n",
    "    s_items[data_itemid][\"data-brand\"] = item.get_attribute(\"data-brand\")\n",
    "    s_items[data_itemid][\"data-price\"] = item.get_attribute(\"data-price\")\n",
    "    s_items[data_itemid][\"data-dimension9\"] = item.get_attribute(\"data-dimension9\")\n",
    "    s_items[data_itemid][\"data-dimension10\"] = item.get_attribute(\"data-dimension10\")\n",
    "    s_items[data_itemid][\"data-metric2\"] = item.get_attribute(\"data-metric2\")\n",
    "    \n",
    "    s_items[data_itemid][\"item-link\"] = item.find_element(By.CLASS_NAME, 'b-product_image-wrapper').get_attribute(\"href\")\n",
    "    s_items[data_itemid][\"item-image-link\"] = item.find_element(By.CLASS_NAME, 'b-product_image-wrapper').get_attribute(\"data-altimage\")"
   ]
  },
  {
   "cell_type": "code",
   "execution_count": 34,
   "id": "d914cc32-3aa4-4bc8-8d5d-cc0f0fd8b991",
   "metadata": {},
   "outputs": [
    {
     "data": {
      "text/plain": [
       "322"
      ]
     },
     "execution_count": 34,
     "metadata": {},
     "output_type": "execute_result"
    }
   ],
   "source": [
    "len(s_items)"
   ]
  },
  {
   "cell_type": "code",
   "execution_count": null,
   "id": "978dc4cc-cd3c-45fb-9330-d5f64d1708f8",
   "metadata": {},
   "outputs": [],
   "source": [
    "STEFA_URL = r\"https://www.casadei.com/en/bridal/?page=2\""
   ]
  },
  {
   "cell_type": "code",
   "execution_count": 35,
   "id": "fd193d02-1e27-4a4d-b403-efb4df548925",
   "metadata": {},
   "outputs": [],
   "source": [
    "item_list = driver.find_elements(By.CLASS_NAME, \"b-product_tile\")"
   ]
  },
  {
   "cell_type": "code",
   "execution_count": 36,
   "id": "970086ec-4ad9-4907-8355-0a49b802651a",
   "metadata": {},
   "outputs": [
    {
     "data": {
      "text/plain": [
       "32"
      ]
     },
     "execution_count": 36,
     "metadata": {},
     "output_type": "execute_result"
    }
   ],
   "source": [
    "len(item_list)"
   ]
  },
  {
   "cell_type": "code",
   "execution_count": 37,
   "id": "43706cfa-6ccc-4160-8362-1f1f48127cee",
   "metadata": {},
   "outputs": [],
   "source": [
    "b_items = {}\n",
    "for item in item_list:\n",
    "    data_itemid = item.get_attribute(\"data-itemid\")\n",
    "    \n",
    "    b_items[data_itemid] = {}\n",
    "    b_items[data_itemid][\"data-product-name\"] = item.get_attribute(\"data-product-name\")\n",
    "    b_items[data_itemid][\"data-variant\"] = item.get_attribute(\"data-variant\")\n",
    "    b_items[data_itemid][\"data-category\"] = item.get_attribute(\"data-category\")\n",
    "    b_items[data_itemid][\"data-brand\"] = item.get_attribute(\"data-brand\")\n",
    "    b_items[data_itemid][\"data-price\"] = item.get_attribute(\"data-price\")\n",
    "    b_items[data_itemid][\"data-dimension9\"] = item.get_attribute(\"data-dimension9\")\n",
    "    b_items[data_itemid][\"data-dimension10\"] = item.get_attribute(\"data-dimension10\")\n",
    "    b_items[data_itemid][\"data-metric2\"] = item.get_attribute(\"data-metric2\")\n",
    "    \n",
    "    b_items[data_itemid][\"item-link\"] = item.find_element(By.CLASS_NAME, 'b-product_image-wrapper').get_attribute(\"href\")\n",
    "    b_items[data_itemid][\"item-image-link\"] = item.find_element(By.CLASS_NAME, 'b-product_image-wrapper').get_attribute(\"data-altimage\")"
   ]
  },
  {
   "cell_type": "code",
   "execution_count": 38,
   "id": "a7434420-efce-4c3a-ad34-c64f4ceb4e7a",
   "metadata": {},
   "outputs": [
    {
     "data": {
      "text/plain": [
       "32"
      ]
     },
     "execution_count": 38,
     "metadata": {},
     "output_type": "execute_result"
    }
   ],
   "source": [
    "len(b_items)"
   ]
  },
  {
   "cell_type": "code",
   "execution_count": 39,
   "id": "9cadd782-1bec-4771-b388-7394b87d3b23",
   "metadata": {},
   "outputs": [],
   "source": [
    "with open(\"casa_export.csv\", \"a\", newline=\"\", encoding=\"utf-8\") as wf:\n",
    "    csv_writer = csv.writer(wf)\n",
    "    csv_writer.writerow([\"data-itemid\",\"data-product-name\",\"data-variant\",\"data-category\",\"data-brand\",\"data-price\",\"data-dimension9\",\"data-dimension\",\"data-metric2\",\"item-link\",\"item-image-link\"])\n",
    "    for k,v in items.items():\n",
    "        csv_writer.writerow([k,v[\"data-product-name\"],v[\"data-variant\"],v[\"data-category\"],v[\"data-brand\"],v[\"data-price\"],v[\"data-dimension9\"],v[\"data-dimension10\"],v[\"data-metric2\"],v[\"item-link\"],v[\"item-image-link\"]])\n",
    "    for k,v in s_items.items():\n",
    "        csv_writer.writerow([k,v[\"data-product-name\"],v[\"data-variant\"],v[\"data-category\"],v[\"data-brand\"],v[\"data-price\"],v[\"data-dimension9\"],v[\"data-dimension10\"],v[\"data-metric2\"],v[\"item-link\"],v[\"item-image-link\"]])\n",
    "    for k,v in b_items.items():\n",
    "        csv_writer.writerow([k,v[\"data-product-name\"],v[\"data-variant\"],v[\"data-category\"],v[\"data-brand\"],v[\"data-price\"],v[\"data-dimension9\"],v[\"data-dimension10\"],v[\"data-metric2\"],v[\"item-link\"],v[\"item-image-link\"]])"
   ]
  },
  {
   "cell_type": "code",
   "execution_count": null,
   "id": "6d2ee1e5-e315-41eb-b8b0-6c39be4dec76",
   "metadata": {},
   "outputs": [],
   "source": []
  }
 ],
 "metadata": {
  "kernelspec": {
   "display_name": "Python 3",
   "language": "python",
   "name": "python3"
  },
  "language_info": {
   "codemirror_mode": {
    "name": "ipython",
    "version": 3
   },
   "file_extension": ".py",
   "mimetype": "text/x-python",
   "name": "python",
   "nbconvert_exporter": "python",
   "pygments_lexer": "ipython3",
   "version": "3.7.5"
  }
 },
 "nbformat": 4,
 "nbformat_minor": 5
}
